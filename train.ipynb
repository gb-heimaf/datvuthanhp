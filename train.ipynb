{
 "cells": [
  {
   "cell_type": "markdown",
   "metadata": {},
   "source": [
    "## Prepare data"
   ]
  },
  {
   "cell_type": "code",
   "execution_count": null,
   "metadata": {},
   "outputs": [],
   "source": [
    "!wget https://s3.eu-central-1.amazonaws.com/avg-kitti/data_scene_flow.zip\n",
    "!mkdir -p data\n",
    "!mv data_scene_flow.zip data\n",
    "!cd data && unzip data_scene_flow.zip"
   ]
  },
  {
   "cell_type": "code",
   "execution_count": null,
   "metadata": {},
   "outputs": [],
   "source": [
    "!apt install -y octave"
   ]
  },
  {
   "cell_type": "code",
   "execution_count": null,
   "metadata": {},
   "outputs": [],
   "source": [
    "!cd preprocess && octave preprocess.m"
   ]
  },
  {
   "cell_type": "markdown",
   "metadata": {},
   "source": [
    "## Train"
   ]
  },
  {
   "cell_type": "code",
   "execution_count": null,
   "metadata": {},
   "outputs": [],
   "source": [
    "import argparse\n",
    "import os\n",
    "\n",
    "from keras.optimizers import Adam\n",
    "\n",
    "from data_handler import DataHandler\n",
    "from model import build_model"
   ]
  },
  {
   "cell_type": "code",
   "execution_count": null,
   "metadata": {},
   "outputs": [],
   "source": [
    "epochs = 10\n",
    "learning_rate = 1e-3\n",
    "batch_size = 64\n",
    "data_root = \"./data/training\""
   ]
  },
  {
   "cell_type": "code",
   "execution_count": null,
   "metadata": {},
   "outputs": [],
   "source": [
    "data_loader = DataHandler(\n",
    "    batch_size=batch_size,\n",
    "    data_version='kitti2015',\n",
    "    util_root='./preprocess/debug_15/',\n",
    "    data_root=data_root,\n",
    "    filename='tr_160_18_100.bin',\n",
    "    num_tr_img=160,\n",
    "    num_val_img=40,\n",
    ")\n",
    "data_loader.load()"
   ]
  },
  {
   "cell_type": "code",
   "execution_count": null,
   "metadata": {},
   "outputs": [],
   "source": [
    "model = build_model(left_input_shape=data_loader.l_psz, right_input_shape=data_loader.r_psz)\n",
    "train_samples = data_loader.pixel_loc.shape[0]\n",
    "model.compile(loss=\"categorical_crossentropy\", optimizer=Adam(lr=learning_rate), metrics=[\"accuracy\"])\n",
    "model.fit_generator(\n",
    "    generator=data_loader.generator,\n",
    "    steps_per_epoch=train_samples // batch_size,\n",
    "    epochs=10,\n",
    ")"
   ]
  }
 ],
 "metadata": {
  "kernelspec": {
   "display_name": "Python 3",
   "language": "python",
   "name": "python3"
  },
  "language_info": {
   "codemirror_mode": {
    "name": "ipython",
    "version": 3
   },
   "file_extension": ".py",
   "mimetype": "text/x-python",
   "name": "python",
   "nbconvert_exporter": "python",
   "pygments_lexer": "ipython3",
   "version": "3.6.8"
  }
 },
 "nbformat": 4,
 "nbformat_minor": 2
}
